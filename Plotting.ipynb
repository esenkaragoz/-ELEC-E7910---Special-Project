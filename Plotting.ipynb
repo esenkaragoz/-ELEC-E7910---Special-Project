{
 "cells": [
  {
   "cell_type": "code",
   "execution_count": 1,
   "metadata": {},
   "outputs": [],
   "source": [
    "import numpy as np\n",
    "import matplotlib.pyplot as plt\n",
    "import scipy.optimize\n",
    "from scipy.special import factorial"
   ]
  },
  {
   "cell_type": "code",
   "execution_count": 2,
   "metadata": {},
   "outputs": [],
   "source": [
    "frame_length = 26\n",
    "number_of_drops = 1e4 # Scientific notation: for example 5e7 = 5*10^7 or 3e-4 = 3*10^-4\n",
    "max_simulated_users = 25\n",
    "lambdas = np.arange(0.025,0.26,0.025)\n",
    "results = np.array([0,0,0,0,0,1,0,1,4,16,57,127,408,1138,2646,5055,7717,9350,9931,10000,10000,10000,10000,10000,10000])"
   ]
  },
  {
   "cell_type": "markdown",
   "metadata": {},
   "source": [
    "In these simulations we want to estimate a sum\n",
    "$$\n",
    "\\sum_{u=0}^{\\infty} P(\\text{\"Error with u active users\"})e^{-\\lambda}\\frac{\\lambda^u}{u!}\n",
    "$$\n",
    "and in the tail, i.e with large $u$, we assume that $P(\\text{\"Error with u active users\"}) = 1$. \n",
    "Thus the error term is of form\n",
    "$$\n",
    "e^{-\\lambda}\\sum_{u=k+1}^\\infty \\frac{\\lambda^u}{u!}\n",
    "$$\n",
    "The sum is now a tail of the Taylor series for $e^\\lambda$. The tail (or error) term in the Taylor approximation is\n",
    "$$\n",
    "R_k(\\lambda) = \\frac{e^\\xi}{(k+1)!} \\lambda^{k+1}\n",
    "$$\n",
    "for some $0 < \\xi \\leq \\lambda$. In order to be safe and maximize the error term, first take a maximal lambda $\\lambda_{\\text{max}}$ used in simulations and then set $\\xi = \\lambda_{\\text{max}}$.\n",
    "And thus we get a form\n",
    "$$\n",
    "e^{-\\lambda_{\\text{max}}}R_k(\\lambda_{\\text{max}}) \\leq \\frac{\\lambda_{\\text{max}}^{k+1}}{(k+1)!} \n",
    "$$\n",
    "and the last one to the right is the one we calculate."
   ]
  },
  {
   "cell_type": "code",
   "execution_count": 3,
   "metadata": {},
   "outputs": [
    {
     "name": "stdout",
     "output_type": "stream",
     "text": [
      "Approximation error for the given range of simulated users: 1.2225353454938447e-06\n"
     ]
    }
   ],
   "source": [
    "largest_lambda = lambdas[-1]*frame_length\n",
    "error = largest_lambda**(max_simulated_users+1) / factorial(max_simulated_users+1)\n",
    "print(f'Approximation error for the given range of simulated users: {error}')"
   ]
  },
  {
   "cell_type": "markdown",
   "metadata": {},
   "source": [
    "**The approximation error should be less than 1e-5 with a good range of users**"
   ]
  },
  {
   "cell_type": "code",
   "execution_count": 4,
   "metadata": {},
   "outputs": [],
   "source": [
    "def g(intensities):\n",
    "    res = np.array([])\n",
    "    for intensity in intensities:\n",
    "        res = np.append(res, np.sum(failure_prob*np.exp(-intensity*frame_length)*(intensity*frame_length)**user_range / factorial(user_range)))\n",
    "    return res"
   ]
  },
  {
   "cell_type": "code",
   "execution_count": 5,
   "metadata": {},
   "outputs": [],
   "source": [
    "failure_prob = results/number_of_drops\n",
    "error_probs = np.array([])\n",
    "user_range = np.arange(1,max_simulated_users + 0.1, 1)\n",
    "error_probs = g(lambdas)"
   ]
  },
  {
   "cell_type": "code",
   "execution_count": 6,
   "metadata": {},
   "outputs": [],
   "source": [
    "xpoints = np.linspace(lambdas[0],lambdas[-1],1000)\n",
    "curve = g(xpoints)"
   ]
  },
  {
   "cell_type": "code",
   "execution_count": 7,
   "metadata": {},
   "outputs": [
    {
     "data": {
      "image/png": "[encoded data removed]",
      "text/plain": [
       "<Figure size 504x504 with 1 Axes>"
      ]
     },
     "metadata": {
      "needs_background": "light"
     },
     "output_type": "display_data"
    }
   ],
   "source": [
    "plt.figure(figsize=(7,7))\n",
    "plt.plot(lambdas, error_probs, 'o')\n",
    "plt.semilogy(xpoints, curve)\n",
    "plt.axhline(y = 1e-5, color = 'r', linestyle = '-')\n",
    "_ = plt.xticks(lambdas) # Disable trash output by assigning it to _"
   ]
  }
 ],
 "metadata": {
  "kernelspec": {
   "display_name": "Python 3",
   "language": "python",
   "name": "python3"
  },
  "language_info": {
   "codemirror_mode": {
    "name": "ipython",
    "version": 3
   },
   "file_extension": ".py",
   "mimetype": "text/x-python",
   "name": "python",
   "nbconvert_exporter": "python",
   "pygments_lexer": "ipython3",
   "version": "3.8.5"
  }
 },
 "nbformat": 4,
 "nbformat_minor": 4
}
